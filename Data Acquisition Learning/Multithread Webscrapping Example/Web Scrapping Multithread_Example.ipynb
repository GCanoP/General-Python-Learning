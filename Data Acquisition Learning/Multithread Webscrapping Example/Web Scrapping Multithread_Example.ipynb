{
 "cells": [
  {
   "cell_type": "markdown",
   "id": "1000bce1",
   "metadata": {},
   "source": [
    "# Web Scrapping Multithreads Example Python. "
   ]
  },
  {
   "cell_type": "code",
   "execution_count": 1,
   "id": "28522d03",
   "metadata": {
    "ExecuteTime": {
     "end_time": "2023-03-03T05:48:03.712563Z",
     "start_time": "2023-03-03T05:48:03.006560Z"
    }
   },
   "outputs": [],
   "source": [
    "# Import Libraries.\n",
    "import re\n",
    "import requests\n",
    "import threading\n",
    "from PIL import Image\n",
    "import multiprocessing\n",
    "from tqdm import tqdm\n",
    "from bs4 import BeautifulSoup"
   ]
  },
  {
   "cell_type": "code",
   "execution_count": 2,
   "id": "c0180124",
   "metadata": {
    "ExecuteTime": {
     "end_time": "2023-03-03T05:48:03.744567Z",
     "start_time": "2023-03-03T05:48:03.717562Z"
    }
   },
   "outputs": [],
   "source": [
    "def get_urls(url, base, server):\n",
    "    # Rquest the webpage data.\n",
    "    page = requests.get(url)    # Extract the page. \n",
    "    page_content = page.content # Extract the content.\n",
    "    \n",
    "    # Crating a Beautifulsoup object. \n",
    "    soup = BeautifulSoup(page_content, 'html.parser')\n",
    "    content = soup.find_all(class_='content')\n",
    "    content = str(content)\n",
    "    \n",
    "    if (server ==1):\n",
    "        \n",
    "        # Extract the Source Code Strings. \n",
    "        re_source = 'Insert a regular expression'\n",
    "        sources = re.findall(re_source, content)\n",
    "        full_sources = sources.copy()\n",
    "        \n",
    "        # Complete the Source Code Strings. \n",
    "        for i in range(len(full_sources)):\n",
    "            full_sources[i] = base + sources[i] + \".jpg\"\n",
    "    \n",
    "    if (server == 2):\n",
    "\n",
    "        # Extract the Source Code Strings. \n",
    "        re_source = 'Insert a regular expression'\n",
    "        sources = re.findall(re_source, content)\n",
    "        full_sources = sources.copy()\n",
    "        \n",
    "        # Complete the Source Code Strings. \n",
    "        for i in range(len(full_sources)):\n",
    "            full_sources[i] =  base + sources[i] + \".jpg\"\n",
    "    \n",
    "    del sources[0]\n",
    "    del full_sources [0]\n",
    "    \n",
    "    return sources, full_sources"
   ]
  },
  {
   "cell_type": "code",
   "execution_count": 3,
   "id": "1f57cbc6",
   "metadata": {
    "ExecuteTime": {
     "end_time": "2023-03-03T05:48:03.887264Z",
     "start_time": "2023-03-03T05:48:03.748562Z"
    }
   },
   "outputs": [],
   "source": [
    "def download_images(full_sources, sources):\n",
    "    for i in range(len(full_sources)):\n",
    "        img_url = full_sources[i]\n",
    "        img = Image.open(requests.get(img_url, stream = True).raw)\n",
    "        img.save(sources[i]+\".jpg\")"
   ]
  },
  {
   "cell_type": "code",
   "execution_count": 4,
   "id": "42f736b5",
   "metadata": {
    "ExecuteTime": {
     "end_time": "2023-03-03T05:48:04.032448Z",
     "start_time": "2023-03-03T05:48:03.894264Z"
    }
   },
   "outputs": [],
   "source": [
    "def split(a, n):\n",
    "    k, m = divmod(len(a), n)\n",
    "    return (a[i*k+min(i, m):(i+1)*k+min(i+1, m)] for i in range(n))"
   ]
  },
  {
   "cell_type": "code",
   "execution_count": 5,
   "id": "69b1ac63",
   "metadata": {
    "ExecuteTime": {
     "end_time": "2023-03-03T05:48:04.155451Z",
     "start_time": "2023-03-03T05:48:04.045451Z"
    }
   },
   "outputs": [],
   "source": [
    "# Request the webpage data.\n",
    "url_1 = \"Webpage link\"\n",
    "base_1 = \"Webpage base\"\n",
    "server = 1 # Idicate the server. "
   ]
  },
  {
   "cell_type": "code",
   "execution_count": 6,
   "id": "b3ddc76f",
   "metadata": {
    "ExecuteTime": {
     "end_time": "2023-03-03T05:48:04.768332Z",
     "start_time": "2023-03-03T05:48:04.159450Z"
    },
    "scrolled": true
   },
   "outputs": [],
   "source": [
    "# Getting the tag sources and full sources.\n",
    "[sources, full_sources] = get_urls(url_1, base_1, server)"
   ]
  },
  {
   "cell_type": "code",
   "execution_count": 7,
   "id": "5de9a459",
   "metadata": {
    "ExecuteTime": {
     "end_time": "2023-03-03T05:48:04.784087Z",
     "start_time": "2023-03-03T05:48:04.772311Z"
    }
   },
   "outputs": [],
   "source": [
    "# Getting the split sources. \n",
    "split_sources = list(split(sources, 2))\n",
    "split_full_sources = list(split(full_sources, 2))"
   ]
  },
  {
   "cell_type": "code",
   "execution_count": 8,
   "id": "68d09511",
   "metadata": {
    "ExecuteTime": {
     "end_time": "2023-03-03T05:48:04.896080Z",
     "start_time": "2023-03-03T05:48:04.790086Z"
    }
   },
   "outputs": [],
   "source": [
    "# Copy Indenpendent Data. \n",
    "split_sources_a = split_sources[0].copy()\n",
    "split_sources_b = split_sources[1].copy()\n",
    "# split_sources_c = split_sources[2].copy()\n",
    "# split_sources_d = split_sources[3].copy()\n",
    "split_full_sources_a = split_full_sources[0].copy()\n",
    "split_full_sources_b = split_full_sources[1].copy()\n",
    "# split_full_sources_c = split_full_sources[2].copy()\n",
    "# split_full_sources_d = split_full_sources[3].copy()"
   ]
  },
  {
   "cell_type": "code",
   "execution_count": 9,
   "id": "00a1c694",
   "metadata": {
    "ExecuteTime": {
     "end_time": "2023-03-03T05:48:05.039466Z",
     "start_time": "2023-03-03T05:48:04.904085Z"
    }
   },
   "outputs": [],
   "source": [
    "# Defining threads. \n",
    "t1 = threading.Thread(name=\"thread_01\", target=download_images, args=(split_full_sources_a, split_sources_a,))\n",
    "t2 = threading.Thread(name=\"thread_02\", target=download_images, args=(split_full_sources_b, split_sources_b,))"
   ]
  },
  {
   "cell_type": "code",
   "execution_count": 10,
   "id": "69785392",
   "metadata": {
    "ExecuteTime": {
     "end_time": "2023-03-03T05:48:05.245464Z",
     "start_time": "2023-03-03T05:48:05.059471Z"
    }
   },
   "outputs": [],
   "source": [
    "t1.start()\n",
    "t2.start()"
   ]
  },
  {
   "cell_type": "code",
   "execution_count": 11,
   "id": "5417c688",
   "metadata": {
    "ExecuteTime": {
     "end_time": "2023-03-03T05:49:20.733360Z",
     "start_time": "2023-03-03T05:48:05.260469Z"
    }
   },
   "outputs": [],
   "source": [
    "t1.join()\n",
    "t2.join()"
   ]
  }
 ],
 "metadata": {
  "kernelspec": {
   "display_name": "Python 3 (ipykernel)",
   "language": "python",
   "name": "python3"
  },
  "language_info": {
   "codemirror_mode": {
    "name": "ipython",
    "version": 3
   },
   "file_extension": ".py",
   "mimetype": "text/x-python",
   "name": "python",
   "nbconvert_exporter": "python",
   "pygments_lexer": "ipython3",
   "version": "3.8.15"
  },
  "toc": {
   "base_numbering": 1,
   "nav_menu": {},
   "number_sections": true,
   "sideBar": true,
   "skip_h1_title": false,
   "title_cell": "Table of Contents",
   "title_sidebar": "Contents",
   "toc_cell": false,
   "toc_position": {},
   "toc_section_display": true,
   "toc_window_display": false
  },
  "varInspector": {
   "cols": {
    "lenName": 16,
    "lenType": 16,
    "lenVar": 40
   },
   "kernels_config": {
    "python": {
     "delete_cmd_postfix": "",
     "delete_cmd_prefix": "del ",
     "library": "var_list.py",
     "varRefreshCmd": "print(var_dic_list())"
    },
    "r": {
     "delete_cmd_postfix": ") ",
     "delete_cmd_prefix": "rm(",
     "library": "var_list.r",
     "varRefreshCmd": "cat(var_dic_list()) "
    }
   },
   "types_to_exclude": [
    "module",
    "function",
    "builtin_function_or_method",
    "instance",
    "_Feature"
   ],
   "window_display": false
  }
 },
 "nbformat": 4,
 "nbformat_minor": 5
}
