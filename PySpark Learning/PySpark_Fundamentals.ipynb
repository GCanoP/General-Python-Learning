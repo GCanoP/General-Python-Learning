{
 "cells": [
  {
   "cell_type": "markdown",
   "id": "6e145a18",
   "metadata": {},
   "source": [
    "# PySpark Fundamentals."
   ]
  },
  {
   "cell_type": "code",
   "execution_count": 1,
   "id": "29efe00e",
   "metadata": {},
   "outputs": [],
   "source": [
    "# Importing PySpark. \n",
    "import pyspark"
   ]
  },
  {
   "cell_type": "code",
   "execution_count": null,
   "id": "9a008023",
   "metadata": {},
   "outputs": [],
   "source": []
  }
 ],
 "metadata": {
  "kernelspec": {
   "display_name": "Python 3 (ipykernel)",
   "language": "python",
   "name": "python3"
  },
  "language_info": {
   "codemirror_mode": {
    "name": "ipython",
    "version": 3
   },
   "file_extension": ".py",
   "mimetype": "text/x-python",
   "name": "python",
   "nbconvert_exporter": "python",
   "pygments_lexer": "ipython3",
   "version": "3.8.15"
  }
 },
 "nbformat": 4,
 "nbformat_minor": 5
}
