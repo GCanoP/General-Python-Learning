{
 "cells": [
  {
   "cell_type": "markdown",
   "id": "a64d2a6f",
   "metadata": {
    "ExecuteTime": {
     "end_time": "2023-01-05T18:52:06.159070Z",
     "start_time": "2023-01-05T18:52:06.143081Z"
    }
   },
   "source": [
    "# PySpark Example of Machine Learning. "
   ]
  },
  {
   "cell_type": "markdown",
   "id": "377d9df1",
   "metadata": {},
   "source": [
    "## Importing the Data.  "
   ]
  },
  {
   "cell_type": "code",
   "execution_count": 1,
   "id": "227d88e0",
   "metadata": {
    "ExecuteTime": {
     "end_time": "2023-01-05T21:39:01.420522Z",
     "start_time": "2023-01-05T21:38:54.804530Z"
    }
   },
   "outputs": [],
   "source": [
    "# Importing Spark session. \n",
    "from pyspark.sql import SparkSession\n",
    "spark = SparkSession.builder.appName('Missing').getOrCreate()"
   ]
  },
  {
   "cell_type": "code",
   "execution_count": 2,
   "id": "00a5c6f1",
   "metadata": {
    "ExecuteTime": {
     "end_time": "2023-01-05T21:39:09.389794Z",
     "start_time": "2023-01-05T21:39:01.423525Z"
    }
   },
   "outputs": [
    {
     "name": "stdout",
     "output_type": "stream",
     "text": [
      "+---------+---+----------+------+\n",
      "|     Name|age|Experience|Salary|\n",
      "+---------+---+----------+------+\n",
      "|    Krish| 31|        10| 30000|\n",
      "|Sudhanshu| 30|         8| 25000|\n",
      "|    Sunny| 29|         4| 20000|\n",
      "|     Paul| 24|         3| 20000|\n",
      "|   Harsha| 21|         1| 15000|\n",
      "|  Shubham| 23|         2| 18000|\n",
      "+---------+---+----------+------+\n",
      "\n"
     ]
    }
   ],
   "source": [
    "# Read the Dataset.\n",
    "training = spark.read.csv('test1.csv', header=True, inferSchema=True)\n",
    "training.show()"
   ]
  },
  {
   "cell_type": "code",
   "execution_count": 3,
   "id": "1ed617da",
   "metadata": {
    "ExecuteTime": {
     "end_time": "2023-01-05T21:39:09.419775Z",
     "start_time": "2023-01-05T21:39:09.393790Z"
    }
   },
   "outputs": [
    {
     "name": "stdout",
     "output_type": "stream",
     "text": [
      "root\n",
      " |-- Name: string (nullable = true)\n",
      " |-- age: integer (nullable = true)\n",
      " |-- Experience: integer (nullable = true)\n",
      " |-- Salary: integer (nullable = true)\n",
      "\n"
     ]
    }
   ],
   "source": [
    "# Printing the Schema. \n",
    "training.printSchema()"
   ]
  },
  {
   "cell_type": "code",
   "execution_count": 4,
   "id": "bbc9d513",
   "metadata": {
    "ExecuteTime": {
     "end_time": "2023-01-05T21:39:09.560720Z",
     "start_time": "2023-01-05T21:39:09.427769Z"
    }
   },
   "outputs": [
    {
     "data": {
      "text/plain": [
       "['Name', 'age', 'Experience', 'Salary']"
      ]
     },
     "execution_count": 4,
     "metadata": {},
     "output_type": "execute_result"
    }
   ],
   "source": [
    "# Printing the Columns.\n",
    "training.columns"
   ]
  },
  {
   "cell_type": "markdown",
   "id": "8f39ca7d",
   "metadata": {},
   "source": [
    "### Vector Assembler."
   ]
  },
  {
   "cell_type": "code",
   "execution_count": 5,
   "id": "6f52d9b7",
   "metadata": {
    "ExecuteTime": {
     "end_time": "2023-01-05T21:39:10.125981Z",
     "start_time": "2023-01-05T21:39:09.564719Z"
    }
   },
   "outputs": [],
   "source": [
    "# Importing the Vector Assembler. \n",
    "from pyspark.ml.feature import VectorAssembler\n",
    "featureassembler = VectorAssembler(inputCols=['age', 'Experience'], outputCol=\"Independent Features\")"
   ]
  },
  {
   "cell_type": "code",
   "execution_count": 6,
   "id": "c1e192ce",
   "metadata": {
    "ExecuteTime": {
     "end_time": "2023-01-05T21:39:11.069393Z",
     "start_time": "2023-01-05T21:39:10.128975Z"
    }
   },
   "outputs": [
    {
     "name": "stdout",
     "output_type": "stream",
     "text": [
      "+---------+---+----------+------+--------------------+\n",
      "|     Name|age|Experience|Salary|Independent Features|\n",
      "+---------+---+----------+------+--------------------+\n",
      "|    Krish| 31|        10| 30000|         [31.0,10.0]|\n",
      "|Sudhanshu| 30|         8| 25000|          [30.0,8.0]|\n",
      "|    Sunny| 29|         4| 20000|          [29.0,4.0]|\n",
      "|     Paul| 24|         3| 20000|          [24.0,3.0]|\n",
      "|   Harsha| 21|         1| 15000|          [21.0,1.0]|\n",
      "|  Shubham| 23|         2| 18000|          [23.0,2.0]|\n",
      "+---------+---+----------+------+--------------------+\n",
      "\n"
     ]
    }
   ],
   "source": [
    "output = featureassembler.transform(training)\n",
    "output.show()"
   ]
  },
  {
   "cell_type": "code",
   "execution_count": 7,
   "id": "1896f1a6",
   "metadata": {
    "ExecuteTime": {
     "end_time": "2023-01-05T21:39:11.099375Z",
     "start_time": "2023-01-05T21:39:11.073391Z"
    }
   },
   "outputs": [
    {
     "data": {
      "text/plain": [
       "['Name', 'age', 'Experience', 'Salary', 'Independent Features']"
      ]
     },
     "execution_count": 7,
     "metadata": {},
     "output_type": "execute_result"
    }
   ],
   "source": [
    "output.columns"
   ]
  },
  {
   "cell_type": "code",
   "execution_count": 8,
   "id": "4a4360d0",
   "metadata": {
    "ExecuteTime": {
     "end_time": "2023-01-05T21:39:11.617052Z",
     "start_time": "2023-01-05T21:39:11.103374Z"
    }
   },
   "outputs": [
    {
     "name": "stdout",
     "output_type": "stream",
     "text": [
      "+--------------------+------+\n",
      "|Independent Features|Salary|\n",
      "+--------------------+------+\n",
      "|         [31.0,10.0]| 30000|\n",
      "|          [30.0,8.0]| 25000|\n",
      "|          [29.0,4.0]| 20000|\n",
      "|          [24.0,3.0]| 20000|\n",
      "|          [21.0,1.0]| 15000|\n",
      "|          [23.0,2.0]| 18000|\n",
      "+--------------------+------+\n",
      "\n"
     ]
    }
   ],
   "source": [
    "finalized_data = output.select('Independent Features','Salary')\n",
    "finalized_data.show()"
   ]
  },
  {
   "cell_type": "markdown",
   "id": "1145ddc3",
   "metadata": {},
   "source": [
    "## Training the Model."
   ]
  },
  {
   "cell_type": "code",
   "execution_count": 14,
   "id": "36de0d80",
   "metadata": {
    "ExecuteTime": {
     "end_time": "2023-01-05T21:41:46.132112Z",
     "start_time": "2023-01-05T21:41:45.103265Z"
    }
   },
   "outputs": [],
   "source": [
    "from pyspark.ml.regression import LinearRegression\n",
    "[train_data, test_data] = finalized_data.randomSplit([0.75, 0.25])\n",
    "regressor = LinearRegression(featuresCol='Independent Features', labelCol='Salary')\n",
    "regressor = regressor.fit(train_data)"
   ]
  },
  {
   "cell_type": "code",
   "execution_count": 15,
   "id": "ea2bf4bf",
   "metadata": {
    "ExecuteTime": {
     "end_time": "2023-01-05T21:41:47.744512Z",
     "start_time": "2023-01-05T21:41:47.720526Z"
    }
   },
   "outputs": [
    {
     "data": {
      "text/plain": [
       "DenseVector([83.8068, 1443.1818])"
      ]
     },
     "execution_count": 15,
     "metadata": {},
     "output_type": "execute_result"
    }
   ],
   "source": [
    "regressor.coefficients"
   ]
  },
  {
   "cell_type": "code",
   "execution_count": 16,
   "id": "78ab3ce4",
   "metadata": {
    "ExecuteTime": {
     "end_time": "2023-01-05T21:42:27.475427Z",
     "start_time": "2023-01-05T21:42:27.454441Z"
    }
   },
   "outputs": [
    {
     "data": {
      "text/plain": [
       "11796.874999999998"
      ]
     },
     "execution_count": 16,
     "metadata": {},
     "output_type": "execute_result"
    }
   ],
   "source": [
    "regressor.intercept"
   ]
  },
  {
   "cell_type": "code",
   "execution_count": 17,
   "id": "aa44282b",
   "metadata": {
    "ExecuteTime": {
     "end_time": "2023-01-05T21:43:26.999489Z",
     "start_time": "2023-01-05T21:43:26.489806Z"
    }
   },
   "outputs": [
    {
     "name": "stdout",
     "output_type": "stream",
     "text": [
      "+--------------------+------+------------------+\n",
      "|Independent Features|Salary|        prediction|\n",
      "+--------------------+------+------------------+\n",
      "|          [23.0,2.0]| 18000|16610.795454545456|\n",
      "|          [24.0,3.0]| 20000|18137.784090909092|\n",
      "|          [30.0,8.0]| 25000| 25856.53409090908|\n",
      "|         [31.0,10.0]| 30000|28826.704545454537|\n",
      "+--------------------+------+------------------+\n",
      "\n"
     ]
    }
   ],
   "source": [
    "pred_result = regressor.evaluate(test_data)\n",
    "pred_result.predictions.show()"
   ]
  },
  {
   "cell_type": "code",
   "execution_count": 18,
   "id": "2f8862f2",
   "metadata": {
    "ExecuteTime": {
     "end_time": "2023-01-05T21:44:31.567476Z",
     "start_time": "2023-01-05T21:44:31.555484Z"
    }
   },
   "outputs": [
    {
     "data": {
      "text/plain": [
       "(1320.312499999999, 1877002.5584323339)"
      ]
     },
     "execution_count": 18,
     "metadata": {},
     "output_type": "execute_result"
    }
   ],
   "source": [
    "pred_result.meanAbsoluteError, pred_result.meanSquaredError"
   ]
  },
  {
   "cell_type": "code",
   "execution_count": null,
   "id": "e7d3ba32",
   "metadata": {},
   "outputs": [],
   "source": []
  }
 ],
 "metadata": {
  "kernelspec": {
   "display_name": "Python 3 (ipykernel)",
   "language": "python",
   "name": "python3"
  },
  "language_info": {
   "codemirror_mode": {
    "name": "ipython",
    "version": 3
   },
   "file_extension": ".py",
   "mimetype": "text/x-python",
   "name": "python",
   "nbconvert_exporter": "python",
   "pygments_lexer": "ipython3",
   "version": "3.8.15"
  },
  "toc": {
   "base_numbering": 1,
   "nav_menu": {},
   "number_sections": false,
   "sideBar": true,
   "skip_h1_title": false,
   "title_cell": "Table of Contents",
   "title_sidebar": "Contents",
   "toc_cell": false,
   "toc_position": {
    "height": "calc(100% - 180px)",
    "left": "10px",
    "top": "150px",
    "width": "377px"
   },
   "toc_section_display": true,
   "toc_window_display": true
  },
  "varInspector": {
   "cols": {
    "lenName": 16,
    "lenType": 16,
    "lenVar": 40
   },
   "kernels_config": {
    "python": {
     "delete_cmd_postfix": "",
     "delete_cmd_prefix": "del ",
     "library": "var_list.py",
     "varRefreshCmd": "print(var_dic_list())"
    },
    "r": {
     "delete_cmd_postfix": ") ",
     "delete_cmd_prefix": "rm(",
     "library": "var_list.r",
     "varRefreshCmd": "cat(var_dic_list()) "
    }
   },
   "position": {
    "height": "144.844px",
    "left": "1516px",
    "right": "20px",
    "top": "121px",
    "width": "350px"
   },
   "types_to_exclude": [
    "module",
    "function",
    "builtin_function_or_method",
    "instance",
    "_Feature"
   ],
   "window_display": true
  }
 },
 "nbformat": 4,
 "nbformat_minor": 5
}
