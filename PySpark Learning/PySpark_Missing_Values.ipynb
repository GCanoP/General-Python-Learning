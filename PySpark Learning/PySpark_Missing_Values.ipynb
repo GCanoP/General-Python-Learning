{
 "cells": [
  {
   "cell_type": "markdown",
   "id": "cc5cfc1d",
   "metadata": {},
   "source": [
    "# PySpark Missing Values"
   ]
  },
  {
   "cell_type": "code",
   "execution_count": 1,
   "id": "2d715321",
   "metadata": {
    "ExecuteTime": {
     "end_time": "2023-01-04T02:25:04.946468Z",
     "start_time": "2023-01-04T02:24:55.189860Z"
    }
   },
   "outputs": [],
   "source": [
    "# Import Spark Session. \n",
    "from pyspark.sql import SparkSession\n",
    "spark = SparkSession.builder.appName('Practice').getOrCreate()"
   ]
  },
  {
   "cell_type": "code",
   "execution_count": 2,
   "id": "9b000971",
   "metadata": {
    "ExecuteTime": {
     "end_time": "2023-01-04T02:25:13.721515Z",
     "start_time": "2023-01-04T02:25:04.953463Z"
    }
   },
   "outputs": [],
   "source": [
    "# Import the Incomplete Dataset. \n",
    "df_pyspark = spark.read.csv('test2.csv', header=True, inferSchema=True)"
   ]
  },
  {
   "cell_type": "code",
   "execution_count": 3,
   "id": "d191afff",
   "metadata": {
    "ExecuteTime": {
     "end_time": "2023-01-04T02:25:14.557996Z",
     "start_time": "2023-01-04T02:25:13.726512Z"
    }
   },
   "outputs": [
    {
     "name": "stdout",
     "output_type": "stream",
     "text": [
      "+---------+----+----------+------+\n",
      "|     Name| age|Experience|Salary|\n",
      "+---------+----+----------+------+\n",
      "|    Krish|  31|        10| 30000|\n",
      "|Sudhanshu|  30|         8| 25000|\n",
      "|    Sunny|  29|         4| 20000|\n",
      "|     Paul|  24|         3| 20000|\n",
      "|   Harsha|  21|         1| 15000|\n",
      "|  Shubham|  23|         2| 18000|\n",
      "|   Mahesh|null|      null| 40000|\n",
      "|     null|  34|        10| 38000|\n",
      "|     null|  36|      null|  null|\n",
      "+---------+----+----------+------+\n",
      "\n"
     ]
    }
   ],
   "source": [
    "df_pyspark.show()"
   ]
  },
  {
   "cell_type": "code",
   "execution_count": 4,
   "id": "1efc84f6",
   "metadata": {
    "ExecuteTime": {
     "end_time": "2023-01-04T02:25:15.018713Z",
     "start_time": "2023-01-04T02:25:14.562993Z"
    }
   },
   "outputs": [
    {
     "name": "stdout",
     "output_type": "stream",
     "text": [
      "+----+----------+------+\n",
      "| age|Experience|Salary|\n",
      "+----+----------+------+\n",
      "|  31|        10| 30000|\n",
      "|  30|         8| 25000|\n",
      "|  29|         4| 20000|\n",
      "|  24|         3| 20000|\n",
      "|  21|         1| 15000|\n",
      "|  23|         2| 18000|\n",
      "|null|      null| 40000|\n",
      "|  34|        10| 38000|\n",
      "|  36|      null|  null|\n",
      "+----+----------+------+\n",
      "\n"
     ]
    }
   ],
   "source": [
    "# Drop a Column.\n",
    "df_pyspark.drop('Name').show()"
   ]
  },
  {
   "cell_type": "markdown",
   "id": "179036d0",
   "metadata": {
    "ExecuteTime": {
     "end_time": "2023-01-04T00:24:25.584581Z",
     "start_time": "2023-01-04T00:24:25.572586Z"
    }
   },
   "source": [
    "## Droping Null Values. "
   ]
  },
  {
   "cell_type": "code",
   "execution_count": 5,
   "id": "f930560a",
   "metadata": {
    "ExecuteTime": {
     "end_time": "2023-01-04T02:25:15.623339Z",
     "start_time": "2023-01-04T02:25:15.025708Z"
    }
   },
   "outputs": [
    {
     "name": "stdout",
     "output_type": "stream",
     "text": [
      "+---------+---+----------+------+\n",
      "|     Name|age|Experience|Salary|\n",
      "+---------+---+----------+------+\n",
      "|    Krish| 31|        10| 30000|\n",
      "|Sudhanshu| 30|         8| 25000|\n",
      "|    Sunny| 29|         4| 20000|\n",
      "|     Paul| 24|         3| 20000|\n",
      "|   Harsha| 21|         1| 15000|\n",
      "|  Shubham| 23|         2| 18000|\n",
      "+---------+---+----------+------+\n",
      "\n"
     ]
    }
   ],
   "source": [
    "# Drop Registers with Null Values. \n",
    "df_pyspark.na.drop().show()"
   ]
  },
  {
   "cell_type": "code",
   "execution_count": 6,
   "id": "9175a18d",
   "metadata": {
    "ExecuteTime": {
     "end_time": "2023-01-04T02:25:15.922153Z",
     "start_time": "2023-01-04T02:25:15.628336Z"
    }
   },
   "outputs": [
    {
     "name": "stdout",
     "output_type": "stream",
     "text": [
      "+---------+----+----------+------+\n",
      "|     Name| age|Experience|Salary|\n",
      "+---------+----+----------+------+\n",
      "|    Krish|  31|        10| 30000|\n",
      "|Sudhanshu|  30|         8| 25000|\n",
      "|    Sunny|  29|         4| 20000|\n",
      "|     Paul|  24|         3| 20000|\n",
      "|   Harsha|  21|         1| 15000|\n",
      "|  Shubham|  23|         2| 18000|\n",
      "|   Mahesh|null|      null| 40000|\n",
      "|     null|  34|        10| 38000|\n",
      "|     null|  36|      null|  null|\n",
      "+---------+----+----------+------+\n",
      "\n"
     ]
    }
   ],
   "source": [
    "# Drop Rows with All Null Values.\n",
    "df_pyspark.na.drop(how='all').show()"
   ]
  },
  {
   "cell_type": "code",
   "execution_count": 7,
   "id": "efbae05d",
   "metadata": {
    "ExecuteTime": {
     "end_time": "2023-01-04T02:25:16.238958Z",
     "start_time": "2023-01-04T02:25:15.927151Z"
    }
   },
   "outputs": [
    {
     "name": "stdout",
     "output_type": "stream",
     "text": [
      "+---------+---+----------+------+\n",
      "|     Name|age|Experience|Salary|\n",
      "+---------+---+----------+------+\n",
      "|    Krish| 31|        10| 30000|\n",
      "|Sudhanshu| 30|         8| 25000|\n",
      "|    Sunny| 29|         4| 20000|\n",
      "|     Paul| 24|         3| 20000|\n",
      "|   Harsha| 21|         1| 15000|\n",
      "|  Shubham| 23|         2| 18000|\n",
      "+---------+---+----------+------+\n",
      "\n"
     ]
    }
   ],
   "source": [
    "# Dops Rows with One or More Null Value. \n",
    "df_pyspark.na.drop(how='any').show()"
   ]
  },
  {
   "cell_type": "code",
   "execution_count": 8,
   "id": "55bf9976",
   "metadata": {
    "ExecuteTime": {
     "end_time": "2023-01-04T02:25:16.555762Z",
     "start_time": "2023-01-04T02:25:16.242956Z"
    }
   },
   "outputs": [
    {
     "name": "stdout",
     "output_type": "stream",
     "text": [
      "+---------+----+----------+------+\n",
      "|     Name| age|Experience|Salary|\n",
      "+---------+----+----------+------+\n",
      "|    Krish|  31|        10| 30000|\n",
      "|Sudhanshu|  30|         8| 25000|\n",
      "|    Sunny|  29|         4| 20000|\n",
      "|     Paul|  24|         3| 20000|\n",
      "|   Harsha|  21|         1| 15000|\n",
      "|  Shubham|  23|         2| 18000|\n",
      "|   Mahesh|null|      null| 40000|\n",
      "|     null|  34|        10| 38000|\n",
      "+---------+----+----------+------+\n",
      "\n"
     ]
    }
   ],
   "source": [
    "# Drops Row with a Threshold.\n",
    "df_pyspark.na.drop(how='any', thresh=2).show()"
   ]
  },
  {
   "cell_type": "code",
   "execution_count": 9,
   "id": "8544a6a6",
   "metadata": {
    "ExecuteTime": {
     "end_time": "2023-01-04T02:25:16.938525Z",
     "start_time": "2023-01-04T02:25:16.560760Z"
    }
   },
   "outputs": [
    {
     "name": "stdout",
     "output_type": "stream",
     "text": [
      "+---------+---+----------+------+\n",
      "|     Name|age|Experience|Salary|\n",
      "+---------+---+----------+------+\n",
      "|    Krish| 31|        10| 30000|\n",
      "|Sudhanshu| 30|         8| 25000|\n",
      "|    Sunny| 29|         4| 20000|\n",
      "|     Paul| 24|         3| 20000|\n",
      "|   Harsha| 21|         1| 15000|\n",
      "|  Shubham| 23|         2| 18000|\n",
      "|     null| 34|        10| 38000|\n",
      "|     null| 36|      null|  null|\n",
      "+---------+---+----------+------+\n",
      "\n"
     ]
    }
   ],
   "source": [
    "# Drops Row with a Subset. \n",
    "df_pyspark.dropna(how='any', subset=['Age']).show()"
   ]
  },
  {
   "cell_type": "markdown",
   "id": "9059d154",
   "metadata": {
    "ExecuteTime": {
     "end_time": "2023-01-04T01:58:29.455972Z",
     "start_time": "2023-01-04T01:58:29.450974Z"
    }
   },
   "source": [
    "## Filling the Missing  Values."
   ]
  },
  {
   "cell_type": "code",
   "execution_count": 10,
   "id": "30fcf349",
   "metadata": {
    "ExecuteTime": {
     "end_time": "2023-01-04T02:25:17.559144Z",
     "start_time": "2023-01-04T02:25:16.944521Z"
    }
   },
   "outputs": [
    {
     "name": "stdout",
     "output_type": "stream",
     "text": [
      "+-------------+----+----------+------+\n",
      "|         Name| age|Experience|Salary|\n",
      "+-------------+----+----------+------+\n",
      "|        Krish|  31|        10| 30000|\n",
      "|    Sudhanshu|  30|         8| 25000|\n",
      "|        Sunny|  29|         4| 20000|\n",
      "|         Paul|  24|         3| 20000|\n",
      "|       Harsha|  21|         1| 15000|\n",
      "|      Shubham|  23|         2| 18000|\n",
      "|       Mahesh|null|      null| 40000|\n",
      "|Missing Value|  34|        10| 38000|\n",
      "|Missing Value|  36|      null|  null|\n",
      "+-------------+----+----------+------+\n",
      "\n"
     ]
    }
   ],
   "source": [
    "# Simple Replacing.\n",
    "df_pyspark.na.fill('Missing Value').show()"
   ]
  },
  {
   "cell_type": "code",
   "execution_count": 19,
   "id": "3682848a",
   "metadata": {
    "ExecuteTime": {
     "end_time": "2023-01-04T02:30:52.452172Z",
     "start_time": "2023-01-04T02:30:52.262292Z"
    }
   },
   "outputs": [
    {
     "name": "stdout",
     "output_type": "stream",
     "text": [
      "+---------+----+----------+------+\n",
      "|     Name| age|Experience|Salary|\n",
      "+---------+----+----------+------+\n",
      "|    Krish|  31|        10| 30000|\n",
      "|Sudhanshu|  30|         8| 25000|\n",
      "|    Sunny|  29|         4| 20000|\n",
      "|     Paul|  24|         3| 20000|\n",
      "|   Harsha|  21|         1| 15000|\n",
      "|  Shubham|  23|         2| 18000|\n",
      "|   Mahesh|null|         0| 40000|\n",
      "|     null|  34|        10| 38000|\n",
      "|     null|  36|         0|  null|\n",
      "+---------+----+----------+------+\n",
      "\n"
     ]
    }
   ],
   "source": [
    "# Multiple Replacing. \n",
    "# In order to replace with the command fillna the previous and new values must be the same data type.\n",
    "df_pyspark.na.fill(value = 0, subset=['Experience']).show()"
   ]
  },
  {
   "cell_type": "code",
   "execution_count": 21,
   "id": "367fe602",
   "metadata": {
    "ExecuteTime": {
     "end_time": "2023-01-04T05:31:22.734444Z",
     "start_time": "2023-01-04T05:31:22.434751Z"
    }
   },
   "outputs": [
    {
     "name": "stdout",
     "output_type": "stream",
     "text": [
      "+---------+----+----------+------+\n",
      "|     Name| age|Experience|Salary|\n",
      "+---------+----+----------+------+\n",
      "|    Krish|  31|        10| 30000|\n",
      "|Sudhanshu|  30|         8| 25000|\n",
      "|    Sunny|  29|         4| 20000|\n",
      "|     Paul|  24|         3| 20000|\n",
      "|   Harsha|  21|         1| 15000|\n",
      "|  Shubham|  23|         2| 18000|\n",
      "|   Mahesh|null|      null| 40000|\n",
      "|     null|  34|        10| 38000|\n",
      "|     null|  36|      null|  null|\n",
      "+---------+----+----------+------+\n",
      "\n"
     ]
    }
   ],
   "source": [
    "df_pyspark.show()"
   ]
  },
  {
   "cell_type": "markdown",
   "id": "8bff2c0b",
   "metadata": {},
   "source": [
    "### Mean Values"
   ]
  },
  {
   "cell_type": "code",
   "execution_count": 22,
   "id": "2643b3e6",
   "metadata": {
    "ExecuteTime": {
     "end_time": "2023-01-04T05:36:29.363533Z",
     "start_time": "2023-01-04T05:36:29.068842Z"
    }
   },
   "outputs": [],
   "source": [
    "from pyspark.ml.feature import Imputer\n",
    "imputer = Imputer(inputCols=['age','Experience','Salary'],\n",
    "                 outputCols=['{}imputed'.format(c) for c in ['age','Experience','Salary']],).setStrategy('mean')"
   ]
  },
  {
   "cell_type": "code",
   "execution_count": 27,
   "id": "d6b5acf7",
   "metadata": {
    "ExecuteTime": {
     "end_time": "2023-01-04T05:42:02.178688Z",
     "start_time": "2023-01-04T05:42:01.257257Z"
    }
   },
   "outputs": [
    {
     "name": "stdout",
     "output_type": "stream",
     "text": [
      "+---------+----+----------+------+----------+-----------------+-------------+\n",
      "|     Name| age|Experience|Salary|ageimputed|Experienceimputed|Salaryimputed|\n",
      "+---------+----+----------+------+----------+-----------------+-------------+\n",
      "|    Krish|  31|        10| 30000|        31|               10|        30000|\n",
      "|Sudhanshu|  30|         8| 25000|        30|                8|        25000|\n",
      "|    Sunny|  29|         4| 20000|        29|                4|        20000|\n",
      "|     Paul|  24|         3| 20000|        24|                3|        20000|\n",
      "|   Harsha|  21|         1| 15000|        21|                1|        15000|\n",
      "|  Shubham|  23|         2| 18000|        23|                2|        18000|\n",
      "|   Mahesh|null|      null| 40000|        28|                5|        40000|\n",
      "|     null|  34|        10| 38000|        34|               10|        38000|\n",
      "|     null|  36|      null|  null|        36|                5|        25750|\n",
      "+---------+----+----------+------+----------+-----------------+-------------+\n",
      "\n"
     ]
    }
   ],
   "source": [
    "imputer.fit(df_pyspark).transform(df_pyspark).show()"
   ]
  },
  {
   "cell_type": "code",
   "execution_count": null,
   "id": "9b24c3a9",
   "metadata": {},
   "outputs": [],
   "source": []
  }
 ],
 "metadata": {
  "kernelspec": {
   "display_name": "Python 3 (ipykernel)",
   "language": "python",
   "name": "python3"
  },
  "language_info": {
   "codemirror_mode": {
    "name": "ipython",
    "version": 3
   },
   "file_extension": ".py",
   "mimetype": "text/x-python",
   "name": "python",
   "nbconvert_exporter": "python",
   "pygments_lexer": "ipython3",
   "version": "3.8.15"
  },
  "toc": {
   "base_numbering": 1,
   "nav_menu": {},
   "number_sections": true,
   "sideBar": true,
   "skip_h1_title": false,
   "title_cell": "Table of Contents",
   "title_sidebar": "Contents",
   "toc_cell": false,
   "toc_position": {
    "height": "calc(100% - 180px)",
    "left": "10px",
    "top": "150px",
    "width": "377px"
   },
   "toc_section_display": true,
   "toc_window_display": true
  },
  "varInspector": {
   "cols": {
    "lenName": 16,
    "lenType": 16,
    "lenVar": 40
   },
   "kernels_config": {
    "python": {
     "delete_cmd_postfix": "",
     "delete_cmd_prefix": "del ",
     "library": "var_list.py",
     "varRefreshCmd": "print(var_dic_list())"
    },
    "r": {
     "delete_cmd_postfix": ") ",
     "delete_cmd_prefix": "rm(",
     "library": "var_list.r",
     "varRefreshCmd": "cat(var_dic_list()) "
    }
   },
   "types_to_exclude": [
    "module",
    "function",
    "builtin_function_or_method",
    "instance",
    "_Feature"
   ],
   "window_display": true
  }
 },
 "nbformat": 4,
 "nbformat_minor": 5
}
